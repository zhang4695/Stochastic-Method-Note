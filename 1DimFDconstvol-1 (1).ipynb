{
 "cells": [
  {
   "cell_type": "markdown",
   "metadata": {},
   "source": [
    "\n",
    "\n"
   ]
  },
  {
   "cell_type": "markdown",
   "metadata": {},
   "source": [
    "# 1-Dim Finite Difference Schemes for Constant Volatility"
   ]
  },
  {
   "cell_type": "markdown",
   "metadata": {},
   "source": [
    "## The Pricing Partial Differential Equation"
   ]
  },
  {
   "cell_type": "markdown",
   "metadata": {},
   "source": [
    "The price of a call option is a function of the time $t$ and the forward swap rate $S$: $C = C(t,S)$. If we apply Ito's lemma to $C$ we get: \n",
    "\\begin{align} \n",
    "dC &= \\frac{\\partial C}{\\partial t}dt + \\frac{\\partial C}{\\partial S}dS + \\frac{1}{2} \\frac{\\partial^2 C}{\\partial S^2}dS^2\\\\ \n",
    "& = \\left( \\frac{\\partial C}{\\partial t}+\\frac{\\sigma^2}{2} \\frac{\\partial^2 C}{\\partial S^2}\\right)dt + \\sigma\\frac{\\partial C}{\\partial S}dW\n",
    "\\end{align} \n",
    "Since the call option is a tradeable asset, it must be a (local) martingale, which means the drift term is zero, and this yields the pricing PDE \n",
    "$$\\frac{\\partial C}{\\partial t}=-\\frac{\\sigma^2}{2} \\frac{\\partial^2 C}{\\partial S^2}$$\n",
    "If $\\tau = T-t$ is the time to maturity, then the PDE becomes\n",
    "$$\\frac{\\partial C}{\\partial \\tau}=\\frac{\\sigma^2}{2} \\frac{\\partial^2 C}{\\partial S^2}$$\n",
    "The initial condition is $max(S-K,0)$. \n",
    "\n",
    "The boundary conditions are \n",
    "\\begin{cases}\n",
    "\\lim_{S\\rightarrow - \\infty}C(t,S)=0&\\\\\n",
    "\\lim_{S\\rightarrow \\infty}\\frac{\\partial C}{\\partial S}= 1&\n",
    "\\end{cases}\n",
    "\n",
    "Overall, the PDE together with its initial and boundary conditions is: \n",
    "\n",
    "\\begin{cases}\n",
    "\\frac{\\partial C}{\\partial \\tau}& =\\frac{\\sigma^2}{2} \\frac{\\partial^2 C}{\\partial S^2}\\\\\n",
    "C(0,S) & = \\mbox{max}(S-K,0)\\\\\n",
    "\\lim_{S\\rightarrow - \\infty}C(\\tau,S)&=0\\\\\n",
    "\\lim_{S\\rightarrow \\infty}\\frac{\\partial C}{\\partial S}&= 1\n",
    "\\end{cases}\n"
   ]
  },
  {
   "cell_type": "markdown",
   "metadata": {},
   "source": [
    "Finite Difference Schemes\n",
    "-------------------------\n",
    "When we set up a finite difference scheme we discretize the time and space and we replace the equation that involves continuous derivatives with one that involves differences between the value of the solution at the grid points. \n",
    "\n",
    "The grid points involved in one such finite difference are called the \"stencil\". \n",
    "\n",
    "Let's start with the derivation of the explicit finite difference scheme. The stencil is shown below: \n",
    "\n",
    "\\begin{align}\n",
    "u_{i,j+1}&\\\\\n",
    "| &\\quad\\backslash\\\\\n",
    "| &\\quad\\quad\\backslash\\\\\n",
    "u_{i,j}&--u_{i+1,j}\\\\\n",
    "| &\\quad \\quad / \\\\\n",
    "| &\\quad / \\\\\n",
    "u_{i,j-1}&\n",
    "\\end{align}\n",
    "\n",
    "where $u_{i,j}=\\tilde{C}(\\tau_i, S_j)$.\n",
    "\n",
    "In order to approximate the PDE by a finite differece, we use \n",
    "\n",
    "\\begin{align}\n",
    "    \\frac{\\partial u}{\\partial t} & \\approx \\frac{u_{i+1,j}-u_{i,j}}{d\\tau}\\\\\n",
    "    \\frac{\\partial^2 u}{\\partial S^2} & \\approx \\frac{u_{i,j+1}-2u_{i,j}+u_{i,j-1}}{dS^2}\n",
    "\\end{align}\n",
    "\n",
    "The PDE $\\frac{\\partial u}{\\partial \\tau} =\\frac{\\sigma^2}{2} \\frac{\\partial^2 u}{\\partial S^2}$ becomes:\n",
    "\n",
    "$$\\frac{u_{i+1,j}-u_{i,j}}{d\\tau}=\\frac{\\sigma^2}{2}\\frac{u_{i,j+1}-2u_{i,j}+u_{i,j-1}}{dS^2}$$\n",
    "\n",
    "We denote by $h=\\frac{\\sigma^2d\\tau}{2dS^2}$ and we get\n",
    "\n",
    "$$ u_{i+1,j} = h u_{i,j+1} +(1-2 h) u_{i,j} + h u_{i,j-1}$$\n",
    "\n",
    "\n",
    "Mathematically we can write this in matrix form with $\\theta =1$\n",
    "\n",
    "$$ u_{i+1,j} = u_{i,j}+d\\tau \\frac{\\sigma^2}{2 dS^2} (  u_{i,j+1} -2 u_{i,j} + u_{i,j-1}) $$\n",
    "\n",
    "$$ u_{i+1,} = (I + h \\mathcal{D})  u_{i,}, h = \\frac{\\sigma^2d\\tau}{2 dS^2}  $$\n",
    "\n",
    "Where $\\mathcal{D}$ is tridiagonal matrix of the form:\n",
    "\n",
    "$$\n",
    "\\left(\n",
    "\\begin{array}{c}\n",
    "U^{n+1}_{1} \\\\\n",
    "U^{n+1}_{2} \\\\\n",
    "\\vdots \\\\\n",
    "U^{n+1}_{M-2} \\\\\n",
    "U^{n+1}_{M-1} \\\\\n",
    "\\end{array}\n",
    "\\right) =\\left( \\left(\\begin{array}{ccccc}\n",
    "1  & 0 & 0 & \\cdots  & 0 \\\\\n",
    "0 & 1  & 0& 0  & 0  \\\\\n",
    "0      & \\ddots & \\ddots &   \\ddots     & 0  \\\\\n",
    "\\vdots & 0 & 0 & 1 & 0 \\\\\n",
    "0      & 0 & 0 & 0 &1\\\\\n",
    "\\end{array}\\right)+\n",
    "\\underbrace{\n",
    "h\\left(\n",
    "\\begin{array}{ccccc}\n",
    "-2   & 1 & 0 & \\cdots  & 0 \\\\\n",
    "1   & -2  & 1& 0  & 0  \\\\\n",
    "0      & \\ddots & \\ddots &   \\ddots     & 0  \\\\\n",
    "\\vdots & 0 & 1 & -2  & 1 \\\\\n",
    "0      & 0 & 0 & 1  & -2 \\\\\n",
    "\\end{array}\n",
    "\\right) }_{\\mathcal{D}}\\right) \\cdot\n",
    "\\left(\n",
    "\\begin{array}{c}\n",
    "U^{n}_{1} \\\\\n",
    "U^{n}_{2} \\\\\n",
    "\\vdots \\\\\n",
    "U^{n}_{M-2} \\\\\n",
    "U^{n}_{M-1} \n",
    "\\end{array}\n",
    "\\right)\n",
    "+ \\underbrace{\n",
    "\\left(\n",
    "\\begin{array}{c}\n",
    " a U^{n}_{0} \\\\\n",
    "  0 \\\\\n",
    " \\vdots \\\\\n",
    " 0 \\\\\n",
    "c U^{n}_{M} \\\\\n",
    "\\end{array}\n",
    "\\right) }_{\\mbox{B (boundary terms)}}\n",
    "$$\n",
    "\n",
    "In the same terms we can write the implicit method as:\n",
    "$$ (I - h \\mathcal{D}) u_{i+1,} =  u_{i,} $$\n",
    "\n",
    "with the solution:\n",
    "\n",
    "$$  u_{i+1,} = \\left(I - h \\mathcal{D}\\right)^{-1} u_{i,} $$\n",
    "\n",
    "\n",
    "$$\n",
    "\\left(\n",
    "\\begin{array}{c}\n",
    "U^{n+1}_{1} \\\\\n",
    "U^{n+1}_{2} \\\\\n",
    "\\vdots \\\\\n",
    "U^{n+1}_{M-2} \\\\\n",
    "U^{n+1}_{M-1} \\\\\n",
    "\\end{array}\n",
    "\\right) =\\left( \\left(\\begin{array}{ccccc}\n",
    "1  & 0 & 0 & \\cdots  & 0 \\\\\n",
    "0 & 1  & 0& 0  & 0  \\\\\n",
    "0      & \\ddots & \\ddots &   \\ddots     & 0  \\\\\n",
    "\\vdots & 0 & 0 & 1 & 0 \\\\\n",
    "0      & 0 & 0 & 0 &1\\\\\n",
    "\\end{array}\\right)-\n",
    "\\underbrace{\n",
    "h\\left(\n",
    "\\begin{array}{ccccc}\n",
    "-2   & 1 & 0 & \\cdots  & 0 \\\\\n",
    "1   & -2  & 1& 0  & 0  \\\\\n",
    "0      & \\ddots & \\ddots &   \\ddots     & 0  \\\\\n",
    "\\vdots & 0 & 1 & -2  & 1 \\\\\n",
    "0      & 0 & 0 & 1  & -2 \\\\\n",
    "\\end{array}\n",
    "\\right) }_{\\mathcal{D}}\\right)^{-1} \\cdot\n",
    "\\left(\n",
    "\\begin{array}{c}\n",
    "U^{n}_{1} \\\\\n",
    "U^{n}_{2} \\\\\n",
    "\\vdots \\\\\n",
    "U^{n}_{M-2} \\\\\n",
    "U^{n}_{M-1} \n",
    "\\end{array}\n",
    "\\right)\n",
    "+ \\underbrace{\n",
    "\\left(\n",
    "\\begin{array}{c}\n",
    " a U^{n}_{0} \\\\\n",
    "  0 \\\\\n",
    " \\vdots \\\\\n",
    " 0 \\\\\n",
    "c U^{n}_{M} \\\\\n",
    "\\end{array}\n",
    "\\right) }_{\\mbox{B (boundary terms)}}\n",
    "$$\n",
    "\n",
    "The Crank Nicolson can be viewed as half implicit half explicit scheme with $\\theta =1/2$\n",
    "\n",
    "\n",
    "$$  u_{i+1,} = \\left(I - (1-\\theta) h \\mathcal{D}\\right)^{-1} (I + \\theta h \\mathcal{D})  u_{i,} $$\n",
    "\n",
    "As for the boundary conditions, we will implement a modified version of them. If we take enough grid points so the probability of the log stock to hit the boundary is negligible, we can say that the option value on the boundary is pretty much anything we want. However, we should put some reasonable values at the boundaries, for two reasons: 1. if we put huge values, we may have a multiplication between a huge value and a small probability, and the result will be unstable, and 2. if we put reasonable values we may get away with a smaller range for the finite difference scheme, thus getting some speedup. A good choice of the boundary condition is that the function value at the boundary is constant, so we have \n",
    "\n",
    "\\begin{align}\n",
    "u_{i+1,0} & = u_{i,0}\\\\\n",
    "u_{i+1,N} & = u_{i,N}\n",
    "\\end{align}\n",
    "\n",
    "Now, onto the small details of the finite difference implementation. We will center our grids at the initial value of the forward swap rate, let's call it $S$. The grid will cover the area $[0,T]\\times [S-n\\sigma\\sqrt(T), S+n\\sigma\\sqrt(T)]$, where $n$ is a value large enough so that the arithmetic Brownian Motion $\\sigma dW$ does not cross the boundary with any significant probability. A good value for $n$ is 7. We then need to specify the number of points on the time axis and on the space axis. "
   ]
  },
  {
   "cell_type": "code",
   "execution_count": 1,
   "metadata": {},
   "outputs": [],
   "source": [
    "from IPython.display import HTML\n",
    "HTML('''<script> code_show=true; \n",
    "function code_toggle(){if(code_show){$('div.input').hide();}else{$('div.input').show();}\n",
    "code_show = !code_show} $( document ).ready(code_toggle);</script>\n",
    "<a href=\"javascript:code_toggle()\">Toggle code cells</a>.''')\n",
    "%matplotlib inline"
   ]
  },
  {
   "cell_type": "code",
   "execution_count": 34,
   "metadata": {},
   "outputs": [
    {
     "name": "stdout",
     "output_type": "stream",
     "text": [
      "0.07978845608028655\n"
     ]
    }
   ],
   "source": [
    "import sys\n",
    "sys.path.append('/Users/cristiangpasarica/Documents/StochasticProcess/Financial-Models-Numerical-Methods-master/IPython Notebooks')\n",
    "import numpy as np\n",
    "from scipy.stats import norm\n",
    "import numpy as np\n",
    "from numpy import linalg\n",
    "from scipy.stats import norm\n",
    "\n",
    "def Black(S=100,K=100,sigma=.3,T=1, voltype='Normal'):\n",
    "    \"\"\"Return price of swaption in Black model\n",
    "    \n",
    "    Inputs:\n",
    "    S = spot (current value of forward swap rate)\n",
    "    K = strike\n",
    "    sigma = volatility (in normal or lognormal units)\n",
    "    T = expiry\n",
    "    voltype = one of 'Normal' or 'Lognormal' \"\"\"\n",
    "    if voltype=='Normal':\n",
    "        moneyness = S-K\n",
    "        atMaturityStdev = sigma*np.sqrt(T)\n",
    "        scaledMoneyness = moneyness/atMaturityStdev\n",
    "        return (moneyness * norm.cdf(scaledMoneyness)+atMaturityStdev * norm.pdf(scaledMoneyness))\n",
    "    elif voltype=='Lognormal':\n",
    "        d1 = (np.log(1.0*S/K)+0.5*sigma**2*T)/(sigma*np.sqrt(T))\n",
    "        d2 = d1 - sigma*np.sqrt(T)\n",
    "        return S*norm.cdf(d1)-K*norm.cdf(d2)    \n",
    "    else:\n",
    "        raise Exception(\"Unsupported option volatility type, should be 'Normal' or 'Lognormal', '\" + voltype + \"' entered.\"  )\n",
    "        \n",
    "from scipy.optimize import newton\n",
    "def impliedVol(Opt_price, S,K,T, vol_guess = 0.01, voltype = 'Normal'):\n",
    "    return newton(func = lambda sigma:Black(S, K, sigma,T,voltype)-Opt_price,\n",
    "                  x0 = vol_guess,\n",
    "                  tol = 1e-9)\n",
    "\n",
    "print (Black(100,100,.2,1))\n"
   ]
  },
  {
   "cell_type": "code",
   "execution_count": 87,
   "metadata": {},
   "outputs": [
    {
     "name": "stdout",
     "output_type": "stream",
     "text": [
      "{'OptPrice': 0.07301750091345367, 'SpotGrid': array([ 98.6       ,  98.62828283,  98.65656566,  98.68484848,\n",
      "        98.71313131,  98.74141414,  98.76969697,  98.7979798 ,\n",
      "        98.82626263,  98.85454545,  98.88282828,  98.91111111,\n",
      "        98.93939394,  98.96767677,  98.9959596 ,  99.02424242,\n",
      "        99.05252525,  99.08080808,  99.10909091,  99.13737374,\n",
      "        99.16565657,  99.19393939,  99.22222222,  99.25050505,\n",
      "        99.27878788,  99.30707071,  99.33535354,  99.36363636,\n",
      "        99.39191919,  99.42020202,  99.44848485,  99.47676768,\n",
      "        99.50505051,  99.53333333,  99.56161616,  99.58989899,\n",
      "        99.61818182,  99.64646465,  99.67474747,  99.7030303 ,\n",
      "        99.73131313,  99.75959596,  99.78787879,  99.81616162,\n",
      "        99.84444444,  99.87272727,  99.9010101 ,  99.92929293,\n",
      "        99.95757576,  99.98585859, 100.01414141, 100.04242424,\n",
      "       100.07070707, 100.0989899 , 100.12727273, 100.15555556,\n",
      "       100.18383838, 100.21212121, 100.24040404, 100.26868687,\n",
      "       100.2969697 , 100.32525253, 100.35353535, 100.38181818,\n",
      "       100.41010101, 100.43838384, 100.46666667, 100.49494949,\n",
      "       100.52323232, 100.55151515, 100.57979798, 100.60808081,\n",
      "       100.63636364, 100.66464646, 100.69292929, 100.72121212,\n",
      "       100.74949495, 100.77777778, 100.80606061, 100.83434343,\n",
      "       100.86262626, 100.89090909, 100.91919192, 100.94747475,\n",
      "       100.97575758, 101.0040404 , 101.03232323, 101.06060606,\n",
      "       101.08888889, 101.11717172, 101.14545455, 101.17373737,\n",
      "       101.2020202 , 101.23030303, 101.25858586, 101.28686869,\n",
      "       101.31515152, 101.34343434, 101.37171717, 101.4       ]), 'CallGrid': array([0.00000000e+00, 3.05244348e-14, 1.00134922e-13, 2.92734948e-13,\n",
      "       8.27309893e-13, 2.27914644e-12, 6.12756647e-12, 1.60838288e-11,\n",
      "       4.12298651e-11, 1.03248335e-10, 2.52653960e-10, 6.04311054e-10,\n",
      "       1.41319586e-09, 3.23194823e-09, 7.23030393e-09, 1.58265431e-08,\n",
      "       3.39045313e-08, 7.11007586e-08, 1.45994419e-07, 2.93591076e-07,\n",
      "       5.78351206e-07, 1.11629528e-06, 2.11154685e-06, 3.91517731e-06,\n",
      "       7.11747175e-06, 1.26887284e-05, 2.21882535e-05, 3.80658865e-05,\n",
      "       6.40844353e-05, 1.05893694e-04, 1.71785779e-04, 2.73655659e-04,\n",
      "       4.28178232e-04, 6.58192835e-04, 9.94257152e-04, 1.47629599e-03,\n",
      "       2.15522911e-03, 3.09442067e-03, 4.37075789e-03, 6.07514530e-03,\n",
      "       8.31220199e-03, 1.11989783e-02, 1.48625695e-02, 1.94365937e-02,\n",
      "       2.50566176e-02, 3.18547371e-02, 3.99536412e-02, 4.94605845e-02,\n",
      "       6.04617520e-02, 7.30175009e-02, 8.71589151e-02, 1.02885994e-01,\n",
      "       1.20167655e-01, 1.38943540e-01, 1.59127464e-01, 1.80612173e-01,\n",
      "       2.03274977e-01, 2.26983782e-01, 2.51603019e-01, 2.76999071e-01,\n",
      "       3.03044842e-01, 3.29623283e-01, 3.56629774e-01, 3.83973411e-01,\n",
      "       4.11577306e-01, 4.39378096e-01, 4.67324860e-01, 4.95377673e-01,\n",
      "       5.23505979e-01, 5.51686937e-01, 5.79903873e-01, 6.08144893e-01,\n",
      "       6.36401702e-01, 6.64668653e-01, 6.92941982e-01, 7.21219239e-01,\n",
      "       7.49498865e-01, 7.77779889e-01, 8.06061722e-01, 8.34344013e-01,\n",
      "       8.62626556e-01, 8.90909237e-01, 9.19191990e-01, 9.47474781e-01,\n",
      "       9.75757592e-01, 1.00404041e+00, 1.03232324e+00, 1.06060606e+00,\n",
      "       1.08888889e+00, 1.11717172e+00, 1.14545455e+00, 1.17373737e+00,\n",
      "       1.20202020e+00, 1.23030303e+00, 1.25858586e+00, 1.28686869e+00,\n",
      "       1.31515152e+00, 1.34343434e+00, 1.37171717e+00, 1.40000000e+00]), 'transMatrix': array([[1.        , 0.        , 0.        , ..., 0.        , 0.        ,\n",
      "        0.        ],\n",
      "       [0.25255102, 0.49489796, 0.25255102, ..., 0.        , 0.        ,\n",
      "        0.        ],\n",
      "       [0.        , 0.25255102, 0.49489796, ..., 0.        , 0.        ,\n",
      "        0.        ],\n",
      "       ...,\n",
      "       [0.        , 0.        , 0.        , ..., 0.49489796, 0.25255102,\n",
      "        0.        ],\n",
      "       [0.        , 0.        , 0.        , ..., 0.25255102, 0.49489796,\n",
      "        0.25255102],\n",
      "       [0.        , 0.        , 0.        , ..., 0.        , 0.        ,\n",
      "        1.        ]]), 'condNumber': 0.2525510204081633}\n"
     ]
    }
   ],
   "source": [
    "def FD(S,K,sigma,T,nbTs=50, nbSs=100,nbSigmas=7, type=\"Crank-Nicolson\"):\n",
    "\n",
    "    ''' Implement and solve a finite difference scheme.\n",
    "    \n",
    "    Arguments: \n",
    "    S = spot (initial value of forward swap rate)\n",
    "    K = strike\n",
    "    sigma = volatility (normal)\n",
    "    T = option expiry in years\n",
    "    nbTs = number time points in grid\n",
    "    nbSs = number spot points in grid\n",
    "    nbSigmas = grid cover nbSigmas*sigma*sqrt(T) both above and below S\n",
    "    type = one of ['Explicit', 'Implicit', 'Crank-Nicolson', 'ADE', 'Richardson-Implicit']\n",
    "    \n",
    "    Returns a dictionary with the keywords: \n",
    "    OptPrice = Option price\n",
    "    SpotGrid = Spot grid points\n",
    "    CallGrid = call grid points\n",
    "    transMatrix= the transition matrix \n",
    "    condNumber = condition number = sigma**2 * dt/(2*ds**2)\n",
    "    '''\n",
    "    if nbSs%2==1:\n",
    "        nbSs += 1\n",
    "    N = nbSs\n",
    "    ds = 2*nbSigmas*sigma*np.sqrt(T)/(N-1)\n",
    "    dt = 1.0*T/(nbTs-1)\n",
    "    Ss = np.array(range(nbSs))*ds -(N-1)/2*ds+S\n",
    "    payoff = np.maximum(Ss-K,0)\n",
    "    h = sigma**2 * dt/(2*ds**2)\n",
    "    if type=='Explicit':\n",
    "        M = np.zeros((N,N))\n",
    "        M[0,0]=1; M[N-1,N-1]=1 # boundary conditions\n",
    "        for i in range(1,N-1):\n",
    "            M[i,i+1]=h\n",
    "            M[i,i]=1-2*h\n",
    "            M[i,i-1]=h\n",
    "    elif type=='Implicit':\n",
    "        A = np.zeros((N,N))\n",
    "        A[0,0]=1; A[N-1,N-1]=1 # boundary conditions\n",
    "        for i in range(1,N-1):\n",
    "            A[i,i+1]=-h\n",
    "            A[i,i]=1+2*h\n",
    "            A[i,i-1]=-h\n",
    "        M = linalg.inv(A)\n",
    "    elif type=='Crank-Nicolson':\n",
    "        A = np.zeros((N,N))\n",
    "        A[0,0]=1; A[N-1,N-1]=1\n",
    "        for i in range(1,N-1):\n",
    "            A[i,i+1]=-h/2\n",
    "            A[i,i]=1+h\n",
    "            A[i,i-1]=-h/2\n",
    "        B = np.zeros((N,N))\n",
    "        B[0,0]=1; B[N-1,N-1]=1\n",
    "        for i in range(1,N-1):\n",
    "            B[i,i+1]=h/2\n",
    "            B[i,i]=1-h\n",
    "            B[i,i-1]=h/2\n",
    "        M = np.dot(linalg.inv(A),B)\n",
    "    elif type=='ADE':\n",
    "        A = np.zeros((N,N))\n",
    "        A[0,0]=1; A[N-1,N-1]=1\n",
    "        for i in range(1,N-1):\n",
    "            A[i,i+1]=h/(1+h)\n",
    "            A[i,i]=(1-h)/(1+h)\n",
    "            A[i]+= A[i-1]*h/(1+h)\n",
    "        B = np.zeros((N,N))\n",
    "        B[0,0]=1; B[N-1,N-1]=1\n",
    "        for i in range(1,N-1)[::-1]:\n",
    "            B[i,i-1]=h/(1+h)\n",
    "            B[i,i]=(1-h)/(1+h)\n",
    "            B[i]+= B[i+1]*h/(1+h)\n",
    "        M = (A+B)/2\n",
    "    elif type=='Richardson-Implicit':\n",
    "        A = np.zeros((N,N))\n",
    "        A[0,0]=1; A[N-1,N-1]=1 # boundary conditions\n",
    "        for i in range(1,N-1):\n",
    "            A[i,i+1]=-h\n",
    "            A[i,i]=1+2*h\n",
    "            A[i,i-1]=-h\n",
    "        B = np.zeros((N,N))\n",
    "        B[0,0]=1; B[N-1,N-1]=1 # boundary conditions\n",
    "        for i in range(1,N-1):\n",
    "            B[i,i+1]=-h/2\n",
    "            B[i,i]=1+h\n",
    "            B[i,i-1]=-h/2\n",
    "        A_inv = linalg.inv(A)\n",
    "        B_inv = linalg.inv(B)\n",
    "        M = 2*np.dot(B_inv,B_inv)-A_inv\n",
    "    Cs = np.maximum(Ss-K,0) #Call option values at expiry\n",
    "    for j in range(nbTs-1)[::-1]:\n",
    "        Cs = np.dot(M,Cs)\n",
    "    OptPrice = Cs[int((N-1)/2)]\n",
    "    return dict(OptPrice=OptPrice, SpotGrid=Ss, CallGrid=Cs, transMatrix=M, condNumber=h)\n",
    "\n",
    "S = 100; K = 100; sigma = 0.2; T = 1\n",
    "nbTs=100; nbSs = 100\n",
    "print (FD(S, K, sigma, T , nbTs, nbSs, type='Explicit'))"
   ]
  },
  {
   "cell_type": "markdown",
   "metadata": {},
   "source": [
    "Let's look at the errors of the FD schemes that we implemented. We'll start with a choice of parameters so that the explicit scheme is stable. "
   ]
  },
  {
   "cell_type": "code",
   "execution_count": 41,
   "metadata": {},
   "outputs": [
    {
     "data": {
      "image/png": "[encoded data removed]",
      "text/plain": [
       "<Figure size 576x288 with 1 Axes>"
      ]
     },
     "metadata": {
      "needs_background": "light"
     },
     "output_type": "display_data"
    }
   ],
   "source": [
    "%matplotlib inline\n",
    "import matplotlib.pyplot as plt\n",
    "fig, ax = plt.subplots(figsize=(8,4))\n",
    "ax.set_title('Price errors of various FD schemes',fontweight=\"bold\")\n",
    "fds={}\n",
    "S = 100; K = 100; sigma = 0.2; T = 1\n",
    "nbTs=100; nbSs = 100\n",
    "for type in ['Explicit', 'Implicit', 'Crank-Nicolson', 'ADE', 'Richardson-Implicit']:\n",
    "    fds[type]=FD(S, K, sigma, T , nbTs, nbSs, type=type)\n",
    "    Ss = fds[type]['SpotGrid']\n",
    "    Cs = fds[type]['CallGrid']\n",
    "    actuals = Black(Ss, K, sigma, T)\n",
    "    \n",
    "    errors = Cs-actuals\n",
    "    ax.plot(Ss, errors, label=type)\n",
    "ax.legend();"
   ]
  },
  {
   "cell_type": "code",
   "execution_count": 39,
   "metadata": {},
   "outputs": [
    {
     "data": {
      "text/plain": [
       "6.58588238374358e-09"
      ]
     },
     "execution_count": 39,
     "metadata": {},
     "output_type": "execute_result"
    }
   ],
   "source": [
    "Cs[50]"
   ]
  },
  {
   "cell_type": "code",
   "execution_count": 30,
   "metadata": {},
   "outputs": [
    {
     "data": {
      "text/plain": [
       "100.00141414141414"
      ]
     },
     "execution_count": 30,
     "metadata": {},
     "output_type": "execute_result"
    }
   ],
   "source": [
    "Ss[50]"
   ]
  },
  {
   "cell_type": "code",
   "execution_count": 31,
   "metadata": {},
   "outputs": [
    {
     "data": {
      "text/plain": [
       "0.008705853088460072"
      ]
     },
     "execution_count": 31,
     "metadata": {},
     "output_type": "execute_result"
    }
   ],
   "source": [
    "actuals[50]"
   ]
  },
  {
   "cell_type": "code",
   "execution_count": 28,
   "metadata": {},
   "outputs": [
    {
     "data": {
      "text/plain": [
       "array([ 99.86      ,  99.86282828,  99.86565657,  99.86848485,\n",
       "        99.87131313,  99.87414141,  99.8769697 ,  99.87979798,\n",
       "        99.88262626,  99.88545455,  99.88828283,  99.89111111,\n",
       "        99.89393939,  99.89676768,  99.89959596,  99.90242424,\n",
       "        99.90525253,  99.90808081,  99.91090909,  99.91373737,\n",
       "        99.91656566,  99.91939394,  99.92222222,  99.92505051,\n",
       "        99.92787879,  99.93070707,  99.93353535,  99.93636364,\n",
       "        99.93919192,  99.9420202 ,  99.94484848,  99.94767677,\n",
       "        99.95050505,  99.95333333,  99.95616162,  99.9589899 ,\n",
       "        99.96181818,  99.96464646,  99.96747475,  99.97030303,\n",
       "        99.97313131,  99.9759596 ,  99.97878788,  99.98161616,\n",
       "        99.98444444,  99.98727273,  99.99010101,  99.99292929,\n",
       "        99.99575758,  99.99858586, 100.00141414, 100.00424242,\n",
       "       100.00707071, 100.00989899, 100.01272727, 100.01555556,\n",
       "       100.01838384, 100.02121212, 100.0240404 , 100.02686869,\n",
       "       100.02969697, 100.03252525, 100.03535354, 100.03818182,\n",
       "       100.0410101 , 100.04383838, 100.04666667, 100.04949495,\n",
       "       100.05232323, 100.05515152, 100.0579798 , 100.06080808,\n",
       "       100.06363636, 100.06646465, 100.06929293, 100.07212121,\n",
       "       100.07494949, 100.07777778, 100.08060606, 100.08343434,\n",
       "       100.08626263, 100.08909091, 100.09191919, 100.09474747,\n",
       "       100.09757576, 100.10040404, 100.10323232, 100.10606061,\n",
       "       100.10888889, 100.11171717, 100.11454545, 100.11737374,\n",
       "       100.12020202, 100.1230303 , 100.12585859, 100.12868687,\n",
       "       100.13151515, 100.13434343, 100.13717172, 100.14      ])"
      ]
     },
     "execution_count": 28,
     "metadata": {},
     "output_type": "execute_result"
    }
   ],
   "source": [
    "Ss"
   ]
  },
  {
   "cell_type": "markdown",
   "metadata": {},
   "source": [
    "We know however that the explicit scheme can be unstable. Here's an example. Going forward we'll compare all the schemes except for the explicit one. "
   ]
  },
  {
   "cell_type": "code",
   "execution_count": 8,
   "metadata": {},
   "outputs": [
    {
     "data": {
      "image/png": "[encoded data removed]",
      "text/plain": [
       "<Figure size 576x288 with 1 Axes>"
      ]
     },
     "metadata": {
      "needs_background": "light"
     },
     "output_type": "display_data"
    }
   ],
   "source": [
    "fig, ax = plt.subplots(figsize=(8,4))\n",
    "ax.set_title('Price errors of various FD schemes',fontweight=\"bold\")\n",
    "fds={}\n",
    "S = 0.01; K = 0.01; sigma = 0.01; T = 1\n",
    "nbTs=30; nbSs = 100\n",
    "for type in ['Explicit', 'Implicit', 'Crank-Nicolson', 'ADE', 'Richardson-Implicit']:\n",
    "    fds[type]=FD(S, K, sigma, T , nbTs, nbSs, type=type)\n",
    "    Ss = fds[type]['SpotGrid']\n",
    "    Cs = fds[type]['CallGrid']\n",
    "    actuals = Black(Ss, K, sigma, T)\n",
    "    errors = Cs-actuals\n",
    "    ax.plot(Ss,errors, label=type)\n",
    "ax.legend();"
   ]
  },
  {
   "cell_type": "markdown",
   "metadata": {},
   "source": [
    "Let's look again at the comparison, removing the explicit method"
   ]
  },
  {
   "cell_type": "code",
   "execution_count": 9,
   "metadata": {},
   "outputs": [
    {
     "data": {
      "image/png": "[encoded data removed]",
      "text/plain": [
       "<Figure size 1152x288 with 2 Axes>"
      ]
     },
     "metadata": {
      "needs_background": "light"
     },
     "output_type": "display_data"
    }
   ],
   "source": [
    "fig, ax = plt.subplots(figsize=(16,4),ncols=2)\n",
    "ax[0].set_title('Price errors of various FD schemes',fontweight=\"bold\")\n",
    "ax[1].set_title('Price errors of various FD schemes',fontweight=\"bold\")\n",
    "fds={}\n",
    "S = 0.01; K = 0.01; sigma = 0.01; T = 1\n",
    "nbTs=15; nbSs = 150\n",
    "for type in ['Implicit', 'Crank-Nicolson', 'ADE', 'Richardson-Implicit']:\n",
    "    fds[type]=FD(S, K, sigma, T , nbTs, nbSs, type=type)\n",
    "    Ss = fds[type]['SpotGrid']\n",
    "    Cs = fds[type]['CallGrid']\n",
    "    actuals = Black(Ss, K, sigma, T)\n",
    "    errors = Cs-actuals\n",
    "    ax[0].plot(Ss,errors, label=type)\n",
    "    if type in ['Crank-Nicolson','Richardson-Implicit']:\n",
    "        ax[1].plot(Ss,errors, label=type)\n",
    "ax[0].legend();ax[1].legend();"
   ]
  },
  {
   "cell_type": "markdown",
   "metadata": {},
   "source": [
    "Let's see now how fast these schemes are"
   ]
  },
  {
   "cell_type": "code",
   "execution_count": 12,
   "metadata": {},
   "outputs": [],
   "source": [
    "%%capture times\n",
    "fdtypes = ['Explicit','Implicit', 'Crank-Nicolson', 'ADE', 'Richardson-Implicit']\n",
    "for t in fdtypes:\n",
    "    print (t + ' '*(25-len(t))+':')\n",
    "    %timeit FD(S, K, sigma, T , nbTs, nbSs, type=t)\n",
    "fd = FD(S, K, sigma, T , nbTs, nbSs, type='Explicit')\n",
    "Ss = fd['SpotGrid']\n",
    "print ('Black 1 value            :')\n",
    "%timeit Black(S, K, sigma, T)\n",
    "print ('Black 1 slice            :')\n",
    "%timeit Black(Ss, K, sigma, T)"
   ]
  },
  {
   "cell_type": "code",
   "execution_count": 11,
   "metadata": {},
   "outputs": [
    {
     "name": "stdout",
     "output_type": "stream",
     "text": [
      "Explicit                 : 219\tus\n",
      "Implicit                 : 472\tus\n",
      "Crank-Nicolson           : 799\tus\n",
      "ADE                      : 2.21\tms\n",
      "Richardson-Implicit      : 1.07\tms\n",
      "Black 1 value            : 157\tus\n",
      "Black 1 slice            : 177\tus\n"
     ]
    }
   ],
   "source": [
    "rs = times._stdout.getvalue().split('\\n')\n",
    "for case, timing in zip(rs[::2],rs[1::2]):\n",
    "    print (case, '\\t'.join(timing.split()[0:2]))"
   ]
  },
  {
   "cell_type": "markdown",
   "metadata": {},
   "source": [
    "We note here that our implementation of these schemes is not optimal. For the explicit and ADE case we calculate the full transition matrix, and we multiply by it; in the explicit case most of our multiplications will be by zero, which is inefficient. In the ADE case, a simple loop will achieve a lot of computation reuse, which is lost using a matrix-based code. For the other 3 cases, we perform a matrix inversion when solving a linear system will do. Depending on how many time slices we have it may be more efficient to calulate once the inverse matrix and then do a matrix multiplication, but if the number of time slices is small compared to the number of points in the space dimension it may be better to solve each system separately. We didn't do this type of analysis, and this could achieve substantial time savings. "
   ]
  },
  {
   "cell_type": "markdown",
   "metadata": {},
   "source": [
    "Let's now look at how the instability arises for the explicit scheme. The interactive plot below is centered at some parameter values where the explicit scheme starts being unstable, but only barely. "
   ]
  },
  {
   "cell_type": "code",
   "execution_count": 35,
   "metadata": {},
   "outputs": [
    {
     "name": "stderr",
     "output_type": "stream",
     "text": [
      "/Users/cristiangpasarica/opt/anaconda3/lib/python3.7/site-packages/IPython/html.py:14: ShimWarning: The `IPython.html` package has been deprecated since IPython 4.0. You should import from `notebook` instead. `IPython.html.widgets` has moved to `ipywidgets`.\n",
      "  \"`IPython.html.widgets` has moved to `ipywidgets`.\", ShimWarning)\n"
     ]
    },
    {
     "data": {
      "application/vnd.jupyter.widget-view+json": {
       "model_id": "f148a56af7c44e29973f3d0d1d9ed025",
       "version_major": 2,
       "version_minor": 0
      },
      "text/plain": [
       "interactive(children=(IntSlider(value=119, description='nbTs', max=130, min=110), IntSlider(value=152, descrip…"
      ]
     },
     "metadata": {},
     "output_type": "display_data"
    },
    {
     "data": {
      "text/plain": [
       "<function __main__.fn(nbTs=119, nbSs=152)>"
      ]
     },
     "execution_count": 35,
     "metadata": {},
     "output_type": "execute_result"
    }
   ],
   "source": [
    "def fn(nbTs=119, nbSs=152):\n",
    "    S = 0.01; K = 0.01\n",
    "    sigma = 0.01; T = 1\n",
    "    fig, ax = plt.subplots(figsize=(8,4))\n",
    "    ax.set_title('Price errors of various FD schemes',fontweight=\"bold\")\n",
    "    fds={}\n",
    "    for type in ['Explicit', 'Implicit', 'Crank-Nicolson', 'ADE', 'Richardson-Implicit']:\n",
    "        fds[type]=FD(S, K, sigma, T , nbTs, nbSs, type=type)\n",
    "        Ss = fds[type]['SpotGrid']\n",
    "        Cs = fds[type]['CallGrid']\n",
    "        actuals = Black(Ss, K, sigma, T)\n",
    "        errors = Cs-actuals\n",
    "        ax.plot(Ss,errors, label=type)\n",
    "    ax.legend();\n",
    "    print ('Condition number is :', fds['Explicit']['condNumber'])\n",
    "    plt.show();\n",
    "from IPython.html.widgets import interact\n",
    "from IPython.display import clear_output, display, HTML \n",
    "interact(fn, nbTs=(110,130,1),nbSs=(140,160,1))"
   ]
  },
  {
   "cell_type": "code",
   "execution_count": null,
   "metadata": {},
   "outputs": [],
   "source": []
  },
  {
   "cell_type": "code",
   "execution_count": 40,
   "metadata": {},
   "outputs": [
    {
     "name": "stdout",
     "output_type": "stream",
     "text": [
      "BS Formula Price:  10.450583572185565\n",
      "call: 10.450583572185565\n",
      "pul: 5.573526022256971\n",
      "call-put 4.877057549928594 S0 - K * np.exp(-r*T): 4.877057549928594\n",
      "impliedVol 0.20000000000000007\n"
     ]
    }
   ],
   "source": [
    "S0=100.0    # spot stock price\n",
    "K=100.0     # strike\n",
    "T=1.0       # maturity \n",
    "r=0.05       # risk free rate \n",
    "sig=0.2     # diffusion coefficient or volatility\n",
    "\n",
    "def BlackScholes(S,K,r,T,sigma, voltype='Normal', option = 'call'):\n",
    "    \"\"\"Return price of swaption in BlackScholes model\n",
    "    \n",
    "    Inputs:\n",
    "    S = spot (current value of forward swap rate)\n",
    "    K = strike\n",
    "    sigma = volatility (in normal or lognormal units)\n",
    "    T = expiry\n",
    "    r = interest rates\n",
    "    voltype = one of 'Normal' or 'Lognormal' \"\"\"\n",
    "    if voltype=='Normal':\n",
    "        moneyness = S-K\n",
    "        atMaturityStdev = sigma*np.sqrt(T)\n",
    "        scaledMoneyness = moneyness/atMaturityStdev\n",
    "        return (moneyness * norm.cdf(scaledMoneyness)+atMaturityStdev * norm.pdf(scaledMoneyness))\n",
    "    elif voltype=='Lognormal':\n",
    "        d1 = (np.log(1.0*S/K)+(r+sigma**2/2.0)*T)/(sigma*np.sqrt(T))\n",
    "        d2 = d1 - sigma*np.sqrt(T)\n",
    "        if  option == 'call':\n",
    "            return S*norm.cdf(d1)-K*np.exp(-r*T)*norm.cdf(d2) \n",
    "        else:\n",
    "            return (K * np.exp(-r * T) * norm.cdf(-d2) - S * norm.cdf(-d1))\n",
    "    else:\n",
    "        raise Exception(\"Unsupported option volatility type, should be 'Normal' or 'Lognormal', '\" + voltype + \"' entered.\"  )\n",
    "        \n",
    "print(\"BS Formula Price: \", BlackScholes(S0,K,r,T, sig, voltype='Lognormal'))\n",
    "\n",
    "call = BlackScholes(S0,K,r,T, sig, voltype='Lognormal')\n",
    "put = BlackScholes(S0,K,r,T, sig, 'Lognormal' , \"put\")\n",
    "print('call:',call) \n",
    "print('pul:',put) \n",
    "\n",
    "print('call-put', call - put , 'S0 - K * np.exp(-r*T):', S0 - K * np.exp(-r*T) )\n",
    "\n",
    "from scipy.optimize import newton\n",
    "def impliedVol(Opt_price, S0,K,r,T, vol_guess = sig, voltype = 'Lognormal'):\n",
    "    return newton(func = lambda sigma:BlackScholes(S0,K,r,T, sigma, voltype='Lognormal')-Opt_price,\n",
    "                  x0 = vol_guess,\n",
    "                  tol = 1e-8)\n",
    "price = BlackScholes(S0,K,r,T, sig, voltype='Lognormal')\n",
    "print (\"impliedVol\" , impliedVol(price, S0,K,r,T, vol_guess = 0.11, voltype = 'Lognormal'))"
   ]
  },
  {
   "cell_type": "code",
   "execution_count": null,
   "metadata": {},
   "outputs": [],
   "source": []
  }
 ],
 "metadata": {
  "celltoolbar": "Edit Metadata",
  "kernelspec": {
   "display_name": "Python 3",
   "language": "python",
   "name": "python3"
  },
  "language_info": {
   "codemirror_mode": {
    "name": "ipython",
    "version": 3
   },
   "file_extension": ".py",
   "mimetype": "text/x-python",
   "name": "python",
   "nbconvert_exporter": "python",
   "pygments_lexer": "ipython3",
   "version": "3.7.3"
  }
 },
 "nbformat": 4,
 "nbformat_minor": 1
}
